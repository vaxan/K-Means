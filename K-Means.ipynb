{
 "cells": [
  {
   "cell_type": "code",
   "execution_count": 12,
   "metadata": {},
   "outputs": [],
   "source": [
    "import numpy as np\n",
    "from sklearn import datasets\n",
    "import matplotlib.pyplot as plt\n",
    "\n",
    "np.random.seed(12345)"
   ]
  },
  {
   "cell_type": "code",
   "execution_count": 2,
   "metadata": {},
   "outputs": [],
   "source": [
    "# Function for loading the iris data\n",
    "# load_data returns a 2D numpy array where each row is an example\n",
    "#  and each column is a given feature.\n",
    "def load_data():\n",
    "    iris = datasets.load_iris()\n",
    "    return iris.data"
   ]
  },
  {
   "cell_type": "code",
   "execution_count": 3,
   "metadata": {},
   "outputs": [],
   "source": [
    "# Assign labels to each example given the center of each cluster\n",
    "def assign_labels(X, centers):\n",
    "    # Dictionary to store given X values to it's respective cluster\n",
    "    clusters = {i: [] for i in range(len(centers))}\n",
    "    # for each value in X calculate the distance from every center\n",
    "    for index, value in enumerate(X):\n",
    "        distances = []\n",
    "        for center in centers:\n",
    "            x = np.sqrt(np.sum(np.power((value - center), 2)))\n",
    "            distances.append(x)\n",
    "        # get the minimum distance for given X value comparing with all the centers\n",
    "        assign_cluster = distances.index(min(distances))\n",
    "        clusters[assign_cluster].append(value)\n",
    "    return clusters"
   ]
  },
  {
   "cell_type": "code",
   "execution_count": 4,
   "metadata": {},
   "outputs": [],
   "source": [
    "# Calculate the center of each cluster given the label of each example\n",
    "def calculate_centers(X, labels):\n",
    "    new_centers = np.ndarray(shape=(len(labels), X.shape[1]))\n",
    "    label = labels\n",
    "    # Calculate the mean distance of each cluster dataset\n",
    "    for index, sample in label.items():\n",
    "        temp_mean = []\n",
    "        v = np.array(sample)\n",
    "        if len(sample) == 0:\n",
    "            a = X[np.random.choice(len(X), size=1)]\n",
    "            temp_mean.append(a)\n",
    "        else:\n",
    "            temp_mean.append(sum(v) / len(sample))\n",
    "\n",
    "        new_centers[index] = np.array(temp_mean)\n",
    "\n",
    "    return new_centers"
   ]
  },
  {
   "cell_type": "code",
   "execution_count": 5,
   "metadata": {},
   "outputs": [],
   "source": [
    "# Test if the algorithm has converged\n",
    "# Should return a bool stating if the algorithm has converged or not.\n",
    "def test_convergence(center, oldCenter):\n",
    "    # Checks if the position of the new centroids have changed\n",
    "    difference = (np.sum(np.subtract(center, oldCenter)) ** 2)\n",
    "    converged = np.sqrt(difference)\n",
    "    if converged != 0:\n",
    "        return False\n",
    "    else:\n",
    "        return True"
   ]
  },
  {
   "cell_type": "code",
   "execution_count": 6,
   "metadata": {},
   "outputs": [],
   "source": [
    "# Evaluate the preformance of the current clusters\n",
    "# This function should return the total mean squared error of the given clusters\n",
    "def evaluate_performance(X, labels, centers):\n",
    "    label = labels\n",
    "    mse = []\n",
    "    for index, values in label.items():\n",
    "        x = np.sum(np.subtract(values, centers[index]) ** 2)\n",
    "        mse.append(x / len(values))\n",
    "    return np.sum(mse)"
   ]
  },
  {
   "cell_type": "code",
   "execution_count": 7,
   "metadata": {},
   "outputs": [],
   "source": [
    "# Algorithm for preforming K-means clustering on the give dataset\n",
    "def k_means(X, K):\n",
    "    # Generate random centroids based on the cluster size\n",
    "    centroid = X[np.random.choice(len(X), size=K)]\n",
    "    oldCentroids = 0\n",
    "    perf = 0\n",
    "    labels = 0\n",
    "    while not test_convergence(centroid, oldCentroids):\n",
    "        oldCentroids = np.copy(centroid)\n",
    "        labels = assign_labels(X, centroid)\n",
    "        centroid = calculate_centers(X, labels)\n",
    "        perf = evaluate_performance(X, labels, centroid)\n",
    "    return labels, perf"
   ]
  },
  {
   "cell_type": "code",
   "execution_count": 14,
   "metadata": {},
   "outputs": [
    {
     "data": {
      "image/png": "[encoded data removed]",
      "text/plain": [
       "<Figure size 432x288 with 1 Axes>"
      ]
     },
     "metadata": {
      "needs_background": "light"
     },
     "output_type": "display_data"
    }
   ],
   "source": [
    "# Elbow Method to check for optimal clusters\n",
    "def SSE(X, K):\n",
    "    value = k_means(X, K)\n",
    "    label = value[0]\n",
    "    sse = []\n",
    "    for idx, sample in label.items():\n",
    "        x = np.sum(np.subtract(sample, np.mean(sample)) ** 2)\n",
    "        sse.append(x)\n",
    "    return np.sum(sse)\n",
    "\n",
    "\n",
    "def elbow_method():\n",
    "    x = load_data()\n",
    "    sum_squared_dist = []\n",
    "    K = range(1, 9)\n",
    "    for k in K:\n",
    "        km = SSE(x, k)\n",
    "        sum_squared_dist.append(km)\n",
    "    return sum_squared_dist\n",
    "\n",
    "y = elbow_method()\n",
    "x = range(1, 9)\n",
    "plt.xlabel('Number of Clusters k')\n",
    "plt.ylabel('SSE')\n",
    "plt.plot(x, y, 'bx-')\n",
    "plt.show()"
   ]
  },
  {
   "cell_type": "code",
   "execution_count": null,
   "metadata": {},
   "outputs": [],
   "source": []
  }
 ],
 "metadata": {
  "kernelspec": {
   "display_name": "Python 3",
   "language": "python",
   "name": "python3"
  },
  "language_info": {
   "codemirror_mode": {
    "name": "ipython",
    "version": 3
   },
   "file_extension": ".py",
   "mimetype": "text/x-python",
   "name": "python",
   "nbconvert_exporter": "python",
   "pygments_lexer": "ipython3",
   "version": "3.7.2rc1"
  }
 },
 "nbformat": 4,
 "nbformat_minor": 2
}
